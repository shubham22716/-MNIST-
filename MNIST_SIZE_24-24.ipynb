{
  "nbformat": 4,
  "nbformat_minor": 0,
  "metadata": {
    "colab": {
      "name": "Untitled1.ipynb",
      "version": "0.3.2",
      "provenance": []
    },
    "kernelspec": {
      "name": "python3",
      "display_name": "Python 3"
    }
  },
  "cells": [
    {
      "cell_type": "code",
      "metadata": {
        "id": "agQbVfsgFcgl",
        "colab_type": "code",
        "colab": {
          "base_uri": "https://localhost:8080/",
          "height": 34
        },
        "outputId": "2fcd5d8b-7e01-4747-a3b2-0ad8d18e1a11"
      },
      "source": [
        "from keras.datasets import fashion_mnist\n",
        "((x_train, y_train), (x_test, y_test)) = fashion_mnist.load_data()"
      ],
      "execution_count": 3,
      "outputs": [
        {
          "output_type": "stream",
          "text": [
            "Using TensorFlow backend.\n"
          ],
          "name": "stderr"
        }
      ]
    },
    {
      "cell_type": "code",
      "metadata": {
        "id": "2T0oAj6ubF44",
        "colab_type": "code",
        "colab": {
          "base_uri": "https://localhost:8080/",
          "height": 34
        },
        "outputId": "7ed29577-286c-473c-e4c8-10bbd0bf79a2"
      },
      "source": [
        "y_test[599]"
      ],
      "execution_count": 4,
      "outputs": [
        {
          "output_type": "execute_result",
          "data": {
            "text/plain": [
              "1"
            ]
          },
          "metadata": {
            "tags": []
          },
          "execution_count": 4
        }
      ]
    },
    {
      "cell_type": "code",
      "metadata": {
        "id": "jykeHLyCPYIE",
        "colab_type": "code",
        "colab": {
          "base_uri": "https://localhost:8080/",
          "height": 34
        },
        "outputId": "c41bd72f-9ca6-4f74-832a-0544b908dc41"
      },
      "source": [
        "x_train.shape"
      ],
      "execution_count": 5,
      "outputs": [
        {
          "output_type": "execute_result",
          "data": {
            "text/plain": [
              "(60000, 28, 28)"
            ]
          },
          "metadata": {
            "tags": []
          },
          "execution_count": 5
        }
      ]
    },
    {
      "cell_type": "code",
      "metadata": {
        "id": "vK2G6FmxS8pX",
        "colab_type": "code",
        "colab": {
          "base_uri": "https://localhost:8080/",
          "height": 34
        },
        "outputId": "288e53c9-b901-451d-bd4d-8af0f5ae1f6c"
      },
      "source": [
        "print(type(x_train)) "
      ],
      "execution_count": 6,
      "outputs": [
        {
          "output_type": "stream",
          "text": [
            "<class 'numpy.ndarray'>\n"
          ],
          "name": "stdout"
        }
      ]
    },
    {
      "cell_type": "code",
      "metadata": {
        "id": "-CrCalPXIifb",
        "colab_type": "code",
        "colab": {}
      },
      "source": [
        "import numpy as np\n",
        "from numpy import array"
      ],
      "execution_count": 0,
      "outputs": []
    },
    {
      "cell_type": "code",
      "metadata": {
        "id": "Y1RbRp0fGxtE",
        "colab_type": "code",
        "colab": {}
      },
      "source": [
        "import tensorflow as tf"
      ],
      "execution_count": 0,
      "outputs": []
    },
    {
      "cell_type": "code",
      "metadata": {
        "id": "OOPlljdpL39W",
        "colab_type": "code",
        "colab": {}
      },
      "source": [
        "int_x_trai=[]\n",
        "new_x_trai=[]\n",
        "int_x_tes=[]\n",
        "new_x_tes=[]"
      ],
      "execution_count": 0,
      "outputs": []
    },
    {
      "cell_type": "code",
      "metadata": {
        "id": "UmbJnq6f83bn",
        "colab_type": "code",
        "colab": {}
      },
      "source": [
        "i=0\n",
        "while(i<60000):\n",
        " \n",
        "  inter=np.delete(x_train[i],[0,1,26,27],0)\n",
        "  int_x_trai.append(inter)\n",
        "  i=i+1\n",
        "  \n",
        "       \n",
        "          "
      ],
      "execution_count": 0,
      "outputs": []
    },
    {
      "cell_type": "code",
      "metadata": {
        "id": "nHVHAHVvIu7_",
        "colab_type": "code",
        "colab": {}
      },
      "source": [
        "i= 0\n",
        "while(i<60000):\n",
        " \n",
        "  newer=np.delete(int_x_trai[i],[0,1,26,27],1)\n",
        "  new_x_trai.append(newer)\n",
        "  i=i+1\n",
        "  "
      ],
      "execution_count": 0,
      "outputs": []
    },
    {
      "cell_type": "code",
      "metadata": {
        "id": "0J5kvHo4Wy0D",
        "colab_type": "code",
        "colab": {
          "base_uri": "https://localhost:8080/",
          "height": 34
        },
        "outputId": "5fbe145b-95ab-4188-c3e2-934a6f4cd6c7"
      },
      "source": [
        "new_x_trai[59999].shape"
      ],
      "execution_count": 12,
      "outputs": [
        {
          "output_type": "execute_result",
          "data": {
            "text/plain": [
              "(24, 24)"
            ]
          },
          "metadata": {
            "tags": []
          },
          "execution_count": 12
        }
      ]
    },
    {
      "cell_type": "code",
      "metadata": {
        "id": "J308ZKtWRj4_",
        "colab_type": "code",
        "colab": {}
      },
      "source": [
        "new_x_train=array(new_x_trai)\n"
      ],
      "execution_count": 0,
      "outputs": []
    },
    {
      "cell_type": "code",
      "metadata": {
        "id": "iyaKNZQwM5Cb",
        "colab_type": "code",
        "colab": {}
      },
      "source": [
        "i=0\n",
        "while(i<10000):\n",
        " \n",
        "  intert=np.delete(x_test[i],[0,1,26,27],0)\n",
        "  int_x_tes.append(intert)\n",
        "  i=i+1"
      ],
      "execution_count": 0,
      "outputs": []
    },
    {
      "cell_type": "code",
      "metadata": {
        "id": "kCHdDMNhM5Pm",
        "colab_type": "code",
        "colab": {}
      },
      "source": [
        "i= 0\n",
        "while(i<10000):\n",
        " \n",
        "  newert=np.delete(int_x_tes[i],[0,1,26,27],1)\n",
        "  new_x_tes.append(newert)\n",
        "  i=i+1\n",
        "  "
      ],
      "execution_count": 0,
      "outputs": []
    },
    {
      "cell_type": "code",
      "metadata": {
        "id": "NhWGvBOaM5ZB",
        "colab_type": "code",
        "colab": {}
      },
      "source": [
        "new_x_test=array(new_x_tes)"
      ],
      "execution_count": 0,
      "outputs": []
    },
    {
      "cell_type": "code",
      "metadata": {
        "id": "dNJqc16dM5e2",
        "colab_type": "code",
        "colab": {
          "base_uri": "https://localhost:8080/",
          "height": 34
        },
        "outputId": "fe94bfdd-92f7-4c0b-9ae9-b23e5b9d6db3"
      },
      "source": [
        "new_x_test.shape"
      ],
      "execution_count": 17,
      "outputs": [
        {
          "output_type": "execute_result",
          "data": {
            "text/plain": [
              "(10000, 24, 24)"
            ]
          },
          "metadata": {
            "tags": []
          },
          "execution_count": 17
        }
      ]
    },
    {
      "cell_type": "code",
      "metadata": {
        "id": "mn7sG2wpM5k2",
        "colab_type": "code",
        "colab": {}
      },
      "source": [
        ""
      ],
      "execution_count": 0,
      "outputs": []
    },
    {
      "cell_type": "code",
      "metadata": {
        "id": "kxCGoig1F5eb",
        "colab_type": "code",
        "colab": {}
      },
      "source": [
        "\n",
        "# Making sure that the values are float so that we can get decimal points after division\n",
        "\n",
        "new_x_train = new_x_train.reshape(new_x_train.shape[0], 24,24,1)\n",
        "new_x_test = new_x_test.reshape(new_x_test.shape[0], 24,24, 1)\n",
        "input_shape = (24, 24, 1)\n",
        "new_x_train = new_x_train.astype('float32')\n",
        "new_x_test=new_x_test.astype('float32')\n",
        "# Normalizing the RGB codes by dividing it to the max RGB value.\n",
        "new_x_train/=255\n",
        "new_x_test/=255\n"
      ],
      "execution_count": 0,
      "outputs": []
    },
    {
      "cell_type": "code",
      "metadata": {
        "id": "a0L9nHNGGe5H",
        "colab_type": "code",
        "outputId": "b79bdbe4-ff81-41b7-b2de-a26da3161eb1",
        "colab": {
          "base_uri": "https://localhost:8080/",
          "height": 138
        }
      },
      "source": [
        "from keras.models import Sequential\n",
        "from keras.layers import Dense, Conv2D, Dropout, Flatten, MaxPooling2D\n",
        "# Creating a Sequential Model and adding the layers\n",
        "model = Sequential()\n",
        "model.add(Conv2D(24, kernel_size=(3,3), input_shape=input_shape))\n",
        "model.add(MaxPooling2D(pool_size=(2, 2)))\n",
        "model.add(Flatten()) # Flattening the 2D arrays for fully connected layers\n",
        "model.add(Dense(128, activation=tf.nn.relu))\n",
        "model.add(Dropout(0.2))\n",
        "model.add(Dense(10,activation=tf.nn.softmax))"
      ],
      "execution_count": 19,
      "outputs": [
        {
          "output_type": "stream",
          "text": [
            "WARNING:tensorflow:From /usr/local/lib/python3.6/dist-packages/tensorflow/python/framework/op_def_library.py:263: colocate_with (from tensorflow.python.framework.ops) is deprecated and will be removed in a future version.\n",
            "Instructions for updating:\n",
            "Colocations handled automatically by placer.\n",
            "WARNING:tensorflow:From /usr/local/lib/python3.6/dist-packages/keras/backend/tensorflow_backend.py:3445: calling dropout (from tensorflow.python.ops.nn_ops) with keep_prob is deprecated and will be removed in a future version.\n",
            "Instructions for updating:\n",
            "Please use `rate` instead of `keep_prob`. Rate should be set to `rate = 1 - keep_prob`.\n"
          ],
          "name": "stdout"
        }
      ]
    },
    {
      "cell_type": "code",
      "metadata": {
        "id": "f661tze9G5fa",
        "colab_type": "code",
        "outputId": "dac9daaf-9616-434b-c1e2-00b0c3068c6c",
        "colab": {
          "base_uri": "https://localhost:8080/",
          "height": 171
        }
      },
      "source": [
        "model.compile(optimizer='adam', \n",
        "              loss='sparse_categorical_crossentropy', \n",
        "              metrics=['accuracy'])\n",
        "model.fit(x=new_x_train,y=y_train, epochs=2)"
      ],
      "execution_count": 20,
      "outputs": [
        {
          "output_type": "stream",
          "text": [
            "WARNING:tensorflow:From /usr/local/lib/python3.6/dist-packages/tensorflow/python/ops/math_ops.py:3066: to_int32 (from tensorflow.python.ops.math_ops) is deprecated and will be removed in a future version.\n",
            "Instructions for updating:\n",
            "Use tf.cast instead.\n",
            "Epoch 1/2\n",
            "60000/60000 [==============================] - 31s 524us/step - loss: 0.4696 - acc: 0.8305\n",
            "Epoch 2/2\n",
            "60000/60000 [==============================] - 31s 522us/step - loss: 0.3368 - acc: 0.8786\n"
          ],
          "name": "stdout"
        },
        {
          "output_type": "execute_result",
          "data": {
            "text/plain": [
              "<keras.callbacks.History at 0x7ff2f18891d0>"
            ]
          },
          "metadata": {
            "tags": []
          },
          "execution_count": 20
        }
      ]
    },
    {
      "cell_type": "code",
      "metadata": {
        "id": "qBmJKl-IYMeV",
        "colab_type": "code",
        "colab": {}
      },
      "source": [
        "y_pred = model.predict_classes(new_x_test)"
      ],
      "execution_count": 0,
      "outputs": []
    },
    {
      "cell_type": "code",
      "metadata": {
        "id": "JzOCwcs3ZUtw",
        "colab_type": "code",
        "colab": {
          "base_uri": "https://localhost:8080/",
          "height": 34
        },
        "outputId": "2f6fef31-248a-4882-f089-24119362f306"
      },
      "source": [
        "print (y_pred)"
      ],
      "execution_count": 22,
      "outputs": [
        {
          "output_type": "stream",
          "text": [
            "[9 2 1 ... 8 1 5]\n"
          ],
          "name": "stdout"
        }
      ]
    },
    {
      "cell_type": "code",
      "metadata": {
        "id": "QoTrDQ-kZs7N",
        "colab_type": "code",
        "colab": {
          "base_uri": "https://localhost:8080/",
          "height": 34
        },
        "outputId": "7d8a74bc-d282-46d6-a18b-9c0f6dcac286"
      },
      "source": [
        "y_pred[0]\n",
        "  "
      ],
      "execution_count": 23,
      "outputs": [
        {
          "output_type": "execute_result",
          "data": {
            "text/plain": [
              "9"
            ]
          },
          "metadata": {
            "tags": []
          },
          "execution_count": 23
        }
      ]
    },
    {
      "cell_type": "code",
      "metadata": {
        "id": "ZLpmPYxrgOcq",
        "colab_type": "code",
        "colab": {
          "base_uri": "https://localhost:8080/",
          "height": 34
        },
        "outputId": "1c817d20-4fc6-42d5-bf92-9e874c7b50b5"
      },
      "source": [
        "print(type(y_pred)) "
      ],
      "execution_count": 24,
      "outputs": [
        {
          "output_type": "stream",
          "text": [
            "<class 'numpy.ndarray'>\n"
          ],
          "name": "stdout"
        }
      ]
    },
    {
      "cell_type": "code",
      "metadata": {
        "id": "O4PTe9MZgS1O",
        "colab_type": "code",
        "colab": {
          "base_uri": "https://localhost:8080/",
          "height": 34
        },
        "outputId": "09ae44bc-a0ba-4a46-886b-09330ba1ce10"
      },
      "source": [
        "print(type(y_test)) "
      ],
      "execution_count": 25,
      "outputs": [
        {
          "output_type": "stream",
          "text": [
            "<class 'numpy.ndarray'>\n"
          ],
          "name": "stdout"
        }
      ]
    },
    {
      "cell_type": "code",
      "metadata": {
        "id": "w-Ethoe5f5-s",
        "colab_type": "code",
        "colab": {
          "base_uri": "https://localhost:8080/",
          "height": 34
        },
        "outputId": "0acbee71-0f16-4961-a9f9-0cae8d54fae9"
      },
      "source": [
        "print(y_test)"
      ],
      "execution_count": 26,
      "outputs": [
        {
          "output_type": "stream",
          "text": [
            "[9 2 1 ... 8 1 5]\n"
          ],
          "name": "stdout"
        }
      ]
    },
    {
      "cell_type": "code",
      "metadata": {
        "id": "r5GrlDoygiIr",
        "colab_type": "code",
        "colab": {}
      },
      "source": [
        "i=0\n",
        "j=0\n",
        "while(i<10000):\n",
        "  \n",
        "  if y_pred[i]==y_test[i]:\n",
        "     j=j+1\n",
        "  i=i+1    "
      ],
      "execution_count": 0,
      "outputs": []
    },
    {
      "cell_type": "code",
      "metadata": {
        "id": "8vG9L5H9iOtY",
        "colab_type": "code",
        "colab": {
          "base_uri": "https://localhost:8080/",
          "height": 34
        },
        "outputId": "0fce4275-9205-4c0d-f684-028499bd18af"
      },
      "source": [
        "print(j)"
      ],
      "execution_count": 32,
      "outputs": [
        {
          "output_type": "stream",
          "text": [
            "8776\n"
          ],
          "name": "stdout"
        }
      ]
    },
    {
      "cell_type": "code",
      "metadata": {
        "id": "MBv6i0VNiPum",
        "colab_type": "code",
        "colab": {}
      },
      "source": [
        "accuracy_test_data= j/10000"
      ],
      "execution_count": 0,
      "outputs": []
    },
    {
      "cell_type": "code",
      "metadata": {
        "id": "4XmYaofNk3Tv",
        "colab_type": "code",
        "colab": {
          "base_uri": "https://localhost:8080/",
          "height": 34
        },
        "outputId": "e0e6bbab-2920-49e1-b3da-7f7edac6ab04"
      },
      "source": [
        "print(accuracy_test_data)"
      ],
      "execution_count": 34,
      "outputs": [
        {
          "output_type": "stream",
          "text": [
            "0.8776\n"
          ],
          "name": "stdout"
        }
      ]
    },
    {
      "cell_type": "markdown",
      "metadata": {
        "id": "loC6WoiMGvGK",
        "colab_type": "text"
      },
      "source": [
        ""
      ]
    }
  ]
}